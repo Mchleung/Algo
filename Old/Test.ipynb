{
 "cells": [
  {
   "cell_type": "code",
   "execution_count": 9,
   "metadata": {
    "collapsed": true
   },
   "outputs": [
    {
     "name": "stdout",
     "output_type": "stream",
     "text": [
      "                         Timestamp  ES_Trade Close  ES_Trade Volume  \\\n",
      "Timestamp                                                             \n",
      "02/11/2020 07:05  02/11/2020 07:05         3269.25           7645.0   \n",
      "02/11/2020 07:10  02/11/2020 07:10         3264.75           1698.0   \n",
      "02/11/2020 07:15  02/11/2020 07:15         3262.50           1199.0   \n",
      "02/11/2020 07:20  02/11/2020 07:20         3263.50           2147.0   \n",
      "02/11/2020 07:25  02/11/2020 07:25         3265.00            946.0   \n",
      "...                            ...             ...              ...   \n",
      "04/12/2020 23:40  04/12/2020 23:40         3688.00          14978.0   \n",
      "04/12/2020 23:45  04/12/2020 23:45         3692.00          16112.0   \n",
      "04/12/2020 23:50  04/12/2020 23:50         3690.75          21319.0   \n",
      "04/12/2020 23:55  04/12/2020 23:55         3690.25          12005.0   \n",
      "05/12/2020 00:00  05/12/2020 00:00         3691.00           9823.0   \n",
      "\n",
      "                  HI_Trade Close  HI_Trade Volume  NQ_Trade Close  \\\n",
      "Timestamp                                                           \n",
      "02/11/2020 07:05             NaN              NaN        11058.25   \n",
      "02/11/2020 07:10             NaN              NaN        11043.00   \n",
      "02/11/2020 07:15             NaN              NaN        11035.00   \n",
      "02/11/2020 07:20             NaN              NaN        11042.25   \n",
      "02/11/2020 07:25             NaN              NaN        11052.75   \n",
      "...                          ...              ...             ...   \n",
      "04/12/2020 23:40         26857.0            237.0        12496.75   \n",
      "04/12/2020 23:45         26847.0            146.0        12512.00   \n",
      "04/12/2020 23:50         26830.0            128.0        12516.25   \n",
      "04/12/2020 23:55         26822.0            117.0        12506.25   \n",
      "05/12/2020 00:00         26835.0            130.0        12499.00   \n",
      "\n",
      "                  NQ_Trade Volume  VIX_Trade Close  VIX_Trade Volume  \n",
      "Timestamp                                                             \n",
      "02/11/2020 07:05           2306.0            34.25             129.0  \n",
      "02/11/2020 07:10            769.0            34.55              93.0  \n",
      "02/11/2020 07:15            318.0            34.55              25.0  \n",
      "02/11/2020 07:20            548.0            34.70              59.0  \n",
      "02/11/2020 07:25            414.0            34.65              16.0  \n",
      "...                           ...              ...               ...  \n",
      "04/12/2020 23:40           4071.0            22.35             640.0  \n",
      "04/12/2020 23:45           3922.0            22.35             502.0  \n",
      "04/12/2020 23:50           5232.0            22.38             597.0  \n",
      "04/12/2020 23:55           4140.0            22.35             277.0  \n",
      "05/12/2020 00:00           4139.0            22.30             588.0  \n",
      "\n",
      "[6690 rows x 9 columns]\n",
      "Timestamp              0\n",
      "ES_Trade Close        21\n",
      "ES_Trade Volume       21\n",
      "HI_Trade Close      1954\n",
      "HI_Trade Volume     1954\n",
      "NQ_Trade Close        21\n",
      "NQ_Trade Volume       21\n",
      "VIX_Trade Close      866\n",
      "VIX_Trade Volume     866\n",
      "dtype: int64\n"
     ]
    }
   ],
   "source": [
    "import yfinance as yf # $ pip install yfinance --upgrade --no-cache-dir\n",
    "import pandas as pd\n",
    "import numpy as np\n",
    "import math\n",
    "import matplotlib\n",
    "import matplotlib.pyplot as plt\n",
    "from matplotlib.pyplot import figure\n",
    "from matplotlib.backends.backend_pdf import PdfPages\n",
    "import seaborn as sns\n",
    "import statsmodels.api as sm\n",
    "from statsmodels.formula.api import ols\n",
    "from sklearn import datasets, linear_model\n",
    "from statsmodels.sandbox.regression.predstd import wls_prediction_std\n",
    "\n",
    "# import data and functions\n",
    "\n",
    "df = pd.read_csv(\"Index_Data.csv\")\n",
    "df.index = df[\"Timestamp\"]\n",
    "print(df)\n",
    "print(df.isnull().sum()) # count all the NaN from each column\n",
    "# print(df.isnull().sum()) # count all the NaN from each column\n"
   ]
  },
  {
   "cell_type": "code",
   "execution_count": 6,
   "outputs": [
    {
     "name": "stdout",
     "output_type": "stream",
     "text": [
      "Index(['Timestamp', 'ES_Trade Close', 'ES_Trade Volume', 'HI_Trade Close',\n",
      "       'HI_Trade Volume', 'NQ_Trade Close', 'NQ_Trade Volume',\n",
      "       'VIX_Trade Close', 'VIX_Trade Volume'],\n",
      "      dtype='object')\n",
      "RangeIndex(start=0, stop=6690, step=1)\n"
     ]
    }
   ],
   "source": [
    "five_mins_return = df[\"ES_Trade Close\"].pct_change()\n",
    "five_mins_return\n",
    "\n",
    "import pandas as pd\n",
    "df = pd.read_csv(\"Index_Data.csv\")\n",
    "\n",
    "# print(df)\n",
    "print(df.columns)\n",
    "print(df.index)"
   ],
   "metadata": {
    "collapsed": false,
    "pycharm": {
     "name": "#%%\n"
    }
   }
  },
  {
   "cell_type": "code",
   "execution_count": 2,
   "outputs": [
    {
     "name": "stdout",
     "output_type": "stream",
     "text": [
      "teeeee\n"
     ]
    }
   ],
   "source": [
    "x = \"tests\"\n",
    "print(\"teeeee\")"
   ],
   "metadata": {
    "collapsed": false,
    "pycharm": {
     "name": "#%%\n"
    }
   }
  },
  {
   "cell_type": "code",
   "execution_count": 5,
   "outputs": [
    {
     "name": "stdout",
     "output_type": "stream",
     "text": [
      "asdasd\n"
     ]
    }
   ],
   "source": [
    "y = \"asdasd\"\n",
    "print(y)"
   ],
   "metadata": {
    "collapsed": false,
    "pycharm": {
     "name": "#%%\n"
    }
   }
  }
 ],
 "metadata": {
  "kernelspec": {
   "display_name": "Python 3",
   "language": "python",
   "name": "python3"
  },
  "language_info": {
   "codemirror_mode": {
    "name": "ipython",
    "version": 2
   },
   "file_extension": ".py",
   "mimetype": "text/x-python",
   "name": "python",
   "nbconvert_exporter": "python",
   "pygments_lexer": "ipython2",
   "version": "2.7.6"
  }
 },
 "nbformat": 4,
 "nbformat_minor": 0
}